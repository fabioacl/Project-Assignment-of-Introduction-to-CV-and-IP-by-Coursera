{
 "cells": [
  {
   "cell_type": "markdown",
   "metadata": {},
   "source": [
    "# Project Assignment - Introduction to Computer Vision and Image Processing (Coursera)\n",
    "\n",
    "This Jupyter notebook contains the solution for the project assignment given in the Introduction to Computer Vision and Image Processing (Coursera) course.\n",
    "\n",
    "It was done following the goals given in the Audit version of the course."
   ]
  },
  {
   "cell_type": "markdown",
   "metadata": {},
   "source": [
    "## Import libraries"
   ]
  },
  {
   "cell_type": "code",
   "execution_count": 209,
   "metadata": {},
   "outputs": [],
   "source": [
    "import numpy as np\n",
    "import cv2\n",
    "import os\n",
    "import pathlib\n",
    "import matplotlib.pyplot as plt\n",
    "import torch\n",
    "import torchvision\n",
    "import PIL\n",
    "from tqdm import tqdm\n",
    "import sklearn.model_selection\n",
    "import urllib.request\n",
    "import zipfile\n",
    "import warnings\n",
    "warnings.filterwarnings(\"ignore\")"
   ]
  },
  {
   "cell_type": "markdown",
   "metadata": {},
   "source": [
    "## Classes"
   ]
  },
  {
   "cell_type": "code",
   "execution_count": 210,
   "metadata": {},
   "outputs": [],
   "source": [
    "class StopRecogniserNet(torch.nn.Module):\n",
    "    def __init__(self):\n",
    "        super().__init__()\n",
    "        self.resnet_model = torch.hub.load('pytorch/vision:v0.10.0', 'resnet18', pretrained=True)\n",
    "        self.resnet_model.eval()\n",
    "\n",
    "        # Freeze all the parameters in the model\n",
    "        for param in self.resnet_model.parameters():\n",
    "            param.requires_grad = False\n",
    "\n",
    "        num_ftrs = self.resnet_model.fc.out_features\n",
    "        self.linear = torch.nn.Linear(num_ftrs, 128)\n",
    "        self.classifier = torch.nn.Linear(128,1)\n",
    "        self.dropout = torch.nn.Dropout(p=0.25)\n",
    "    \n",
    "    def forward(self,data):\n",
    "        x = self.resnet_model(data)\n",
    "        x = self.dropout(x)\n",
    "        x = self.linear(x)\n",
    "        x = torch.nn.functional.relu(x)\n",
    "        x = self.classifier(x)\n",
    "        x = torch.nn.functional.sigmoid(x)\n",
    "        return x\n",
    "\n",
    "class StopRecogniserDataset(torch.utils.data.Dataset):\n",
    "    def __init__(self, filepaths, labels, transform = None):\n",
    "        self.filepaths = filepaths\n",
    "        self.labels = labels\n",
    "        self.transform = transform\n",
    "\n",
    "    def __len__(self):\n",
    "        return len(self.filepaths)\n",
    "\n",
    "    def __getitem__(self, idx):\n",
    "        im = PIL.Image.open(self.filepaths[idx])\n",
    "        im = im.convert(\"RGB\")\n",
    "        label = self.labels[idx]\n",
    "        label = torch.tensor(label, dtype = torch.float32)\n",
    "        \n",
    "        if self.transform:\n",
    "            im = self.transform(im)\n",
    "        \n",
    "        return im, label"
   ]
  },
  {
   "cell_type": "markdown",
   "metadata": {},
   "source": [
    "## Functions"
   ]
  },
  {
   "cell_type": "code",
   "execution_count": 211,
   "metadata": {},
   "outputs": [],
   "source": [
    "def listdir_fullpath(folderpath):\n",
    "    return [f\"{folderpath}\\\\{x}\" for x in os.listdir(folderpath)]\n",
    "\n",
    "def get_only_images_filepaths(filepaths):\n",
    "    images_filepaths = []\n",
    "    for filepath in filepaths:\n",
    "        file_extension = pathlib.Path(filepath).suffix\n",
    "        file_extension = file_extension.lower()\n",
    "\n",
    "        if file_extension in [\".png\", \".jpg\", \".jpeg\"]:\n",
    "            images_filepaths.append(filepath)\n",
    "    \n",
    "    return images_filepaths\n",
    "\n",
    "def train_model(model, train_dl, val_dl, loss_function, optimiser, total_epochs, device):\n",
    "    train_epochs_losses, train_epochs_accuracies = [], []\n",
    "    val_epochs_losses, val_epochs_accuracies = [], []\n",
    "    best_val_loss = 999\n",
    "    best_model_dict = None\n",
    "\n",
    "    for epoch in range(total_epochs):\n",
    "        train_epoch_i_losses, train_epoch_i_accuracies = [], []\n",
    "        val_epoch_i_losses, val_epoch_i_accuracies = [], []\n",
    "\n",
    "        # Training\n",
    "        for _, batch in enumerate(train_dl):\n",
    "            model.train() # Set layers into training mode\n",
    "            model.resnet_model.eval() # Pretrained model layers must behave as in evaluation mode. Otherwise Batch Normalisation and Dropout statistics change\n",
    "\n",
    "            images, labels = batch\n",
    "            images, labels = images.to(device), labels.to(device) \n",
    "\n",
    "            # Forward pass\n",
    "            predictions = model(images)\n",
    "            predictions = predictions.squeeze()\n",
    "\n",
    "            # Backward pass\n",
    "            loss = loss_function(predictions, labels)\n",
    "            loss.backward()\n",
    "\n",
    "            # Optimise the weights and reset the gradients\n",
    "            optimiser.step()\n",
    "            optimiser.zero_grad()\n",
    "\n",
    "            # Calculate the accuracy of the batch\n",
    "            acc = (predictions.round() == labels).float().mean().item()\n",
    "\n",
    "            train_epoch_i_losses.append(loss.item())\n",
    "            train_epoch_i_accuracies.append(acc)\n",
    "        \n",
    "        # Validation\n",
    "        for _, batch in enumerate(val_dl):\n",
    "            model.eval() # Set layers into evaluation mode\n",
    "\n",
    "            images, labels = batch\n",
    "            images, labels = images.to(device), labels.to(device)\n",
    "\n",
    "            predictions = model(images)\n",
    "            predictions = predictions.squeeze()\n",
    "\n",
    "            # Compute validation loss and accuracy \n",
    "            loss = loss_function(predictions, labels)\n",
    "            acc = (predictions.round() == labels).float().mean().item()\n",
    "\n",
    "            val_epoch_i_losses.append(loss.item())\n",
    "            val_epoch_i_accuracies.append(acc)\n",
    "\n",
    "        train_epoch_i_loss = np.mean(train_epoch_i_losses)\n",
    "        train_epoch_i_acc = np.mean(train_epoch_i_accuracies)\n",
    "        val_epoch_i_loss = np.mean(val_epoch_i_losses)\n",
    "        val_epoch_i_acc = np.mean(val_epoch_i_accuracies)\n",
    "\n",
    "        print(f\"Epoch {epoch + 1}/{total_epochs} - Loss: {train_epoch_i_loss}, Accuracy: {train_epoch_i_acc}, Val Loss: {val_epoch_i_loss}, Val Accuracy: {val_epoch_i_acc}\")\n",
    "        \n",
    "        train_epochs_losses.append(train_epoch_i_loss)\n",
    "        train_epochs_accuracies.append(train_epoch_i_acc)\n",
    "        val_epochs_losses.append(val_epoch_i_loss)\n",
    "        val_epochs_accuracies.append(val_epoch_i_acc)\n",
    "\n",
    "        if best_val_loss > val_epoch_i_loss:\n",
    "            best_val_loss = val_epoch_i_loss\n",
    "            best_model_dict = model.state_dict()\n",
    "            print(\"New best model!\")\n",
    "    \n",
    "    model.load_state_dict(best_model_dict)\n",
    "\n",
    "    return model, {\"train_loss\": train_epochs_losses, \"train_acc\": train_epochs_accuracies, \"val_loss\": val_epochs_losses, \"val_acc\": val_epochs_accuracies}"
   ]
  },
  {
   "cell_type": "markdown",
   "metadata": {},
   "source": [
    "## Download data and unzip files"
   ]
  },
  {
   "cell_type": "code",
   "execution_count": 212,
   "metadata": {},
   "outputs": [],
   "source": [
    "# Download datasets\n",
    "urllib.request.urlretrieve(\"https://cf-courses-data.s3.us.cloud-object-storage.appdomain.cloud/IBMDeveloperSkillsNetwork-CV0101EN-Coursera/dataset/stop.zip\", 'stop.zip')\n",
    "urllib.request.urlretrieve(\"https://cf-courses-data.s3.us.cloud-object-storage.appdomain.cloud/IBMDeveloperSkillsNetwork-CV0101EN-Coursera/dataset/not_stop.zip\", 'non_stop.zip')\n",
    "\n",
    "# Unzip files\n",
    "current_directory = os.getcwd()\n",
    "with zipfile.ZipFile(\"stop.zip\", 'r') as zip_ref:\n",
    "    zip_ref.extractall(current_directory)\n",
    "\n",
    "with zipfile.ZipFile(\"non_stop.zip\", 'r') as zip_ref:\n",
    "    zip_ref.extractall(current_directory)"
   ]
  },
  {
   "cell_type": "markdown",
   "metadata": {},
   "source": [
    "## Get data filepaths"
   ]
  },
  {
   "cell_type": "code",
   "execution_count": 213,
   "metadata": {},
   "outputs": [],
   "source": [
    "# Get Not-STOP and STOP folderpaths\n",
    "current_path = os.getcwd()\n",
    "stop_signs_folderpath = f\"{current_path}\\\\stop\"\n",
    "not_stop_signs_folderpath = f\"{current_path}\\\\not_stop\"\n",
    "\n",
    "# Get all filepaths containing STOP images\n",
    "all_stop_filepaths = listdir_fullpath(stop_signs_folderpath)\n",
    "all_stop_filepaths = get_only_images_filepaths(all_stop_filepaths)\n",
    "\n",
    "# Get all filepaths containing Not-STOP images\n",
    "all_not_stop_filepaths = listdir_fullpath(not_stop_signs_folderpath)\n",
    "all_not_stop_filepaths = get_only_images_filepaths(all_not_stop_filepaths)\n",
    "\n",
    "# Concatenate STOP and Not-STOP images and attribute a label to each of them (0: Not-STOP; 1: STOP)\n",
    "all_filepaths = all_stop_filepaths + all_not_stop_filepaths\n",
    "all_labels = np.hstack((np.ones(len(all_stop_filepaths),), np.zeros(len(all_not_stop_filepaths),)))"
   ]
  },
  {
   "cell_type": "markdown",
   "metadata": {},
   "source": [
    "## Prepare datasets loaders"
   ]
  },
  {
   "cell_type": "code",
   "execution_count": 214,
   "metadata": {},
   "outputs": [],
   "source": [
    "# Preprocessing steps performed on the images\n",
    "preprocess = torchvision.transforms.Compose([\n",
    "    torchvision.transforms.Resize((224,224)),\n",
    "    torchvision.transforms.ToTensor(),\n",
    "    torchvision.transforms.Normalize(mean=[0.485, 0.456, 0.406], std=[0.229, 0.224, 0.225]),\n",
    "])\n",
    "\n",
    "# Divide dataset into train, validation, and test sets\n",
    "train_filepaths, test_filepaths, train_labels, test_labels = sklearn.model_selection.train_test_split(all_filepaths, all_labels, test_size = 0.2, shuffle = True)\n",
    "train_filepaths, val_filepaths, train_labels, val_labels = sklearn.model_selection.train_test_split(train_filepaths, train_labels, test_size = 0.25, shuffle = True)\n",
    "\n",
    "# Build dataset\n",
    "train_dataset = StopRecogniserDataset(train_filepaths, train_labels, preprocess)\n",
    "val_dataset = StopRecogniserDataset(val_filepaths, val_labels, preprocess)\n",
    "test_dataset = StopRecogniserDataset(test_filepaths, test_labels, preprocess)\n",
    "\n",
    "# Build data loader\n",
    "train_dl = torch.utils.data.DataLoader(train_dataset, batch_size=16, shuffle=True)\n",
    "val_dl = torch.utils.data.DataLoader(val_dataset, batch_size=8, shuffle=True)\n",
    "test_dl = torch.utils.data.DataLoader(test_dataset, batch_size=8, shuffle=True)"
   ]
  },
  {
   "cell_type": "markdown",
   "metadata": {},
   "source": [
    "## Train Deep Neural Network"
   ]
  },
  {
   "cell_type": "code",
   "execution_count": 217,
   "metadata": {},
   "outputs": [
    {
     "name": "stderr",
     "output_type": "stream",
     "text": [
      "Using cache found in C:\\Users\\dafa/.cache\\torch\\hub\\pytorch_vision_v0.10.0\n"
     ]
    },
    {
     "name": "stdout",
     "output_type": "stream",
     "text": [
      "Epoch 1/20 - Loss: 0.6248055770993233, Accuracy: 0.6390625014901161, Val Loss: 0.46157480478286744, Val Accuracy: 0.925\n",
      "New best model!\n",
      "Epoch 2/20 - Loss: 0.4936547875404358, Accuracy: 0.8109375014901161, Val Loss: 0.45311559438705445, Val Accuracy: 0.875\n",
      "New best model!\n",
      "Epoch 3/20 - Loss: 0.3844491057097912, Accuracy: 0.8812500014901161, Val Loss: 0.30791768729686736, Val Accuracy: 0.925\n",
      "New best model!\n",
      "Epoch 4/20 - Loss: 0.35461683943867683, Accuracy: 0.8968750014901161, Val Loss: 0.2814101129770279, Val Accuracy: 0.925\n",
      "New best model!\n",
      "Epoch 5/20 - Loss: 0.2725122142583132, Accuracy: 0.9296875, Val Loss: 0.22744240760803222, Val Accuracy: 0.95\n",
      "New best model!\n",
      "Epoch 6/20 - Loss: 0.2593388054519892, Accuracy: 0.9140625, Val Loss: 0.28031596541404724, Val Accuracy: 0.925\n",
      "Epoch 7/20 - Loss: 0.21202801261097193, Accuracy: 0.9609375, Val Loss: 0.2392282545566559, Val Accuracy: 0.925\n",
      "Epoch 8/20 - Loss: 0.20503516867756844, Accuracy: 0.953125, Val Loss: 0.20425582230091094, Val Accuracy: 0.95\n",
      "New best model!\n",
      "Epoch 9/20 - Loss: 0.18605113960802555, Accuracy: 0.953125, Val Loss: 0.16797462850809097, Val Accuracy: 0.95\n",
      "New best model!\n",
      "Epoch 10/20 - Loss: 0.17419654224067926, Accuracy: 0.953125, Val Loss: 0.2364285483956337, Val Accuracy: 0.9\n",
      "Epoch 11/20 - Loss: 0.141728388145566, Accuracy: 0.9765625, Val Loss: 0.20443025529384612, Val Accuracy: 0.95\n",
      "Epoch 12/20 - Loss: 0.1444542659446597, Accuracy: 0.953125, Val Loss: 0.1830563321709633, Val Accuracy: 0.95\n",
      "Epoch 13/20 - Loss: 0.17000864818692207, Accuracy: 0.9515625014901161, Val Loss: 0.20258975476026536, Val Accuracy: 0.925\n",
      "Epoch 14/20 - Loss: 0.12985424045473337, Accuracy: 0.984375, Val Loss: 0.2331016480922699, Val Accuracy: 0.9\n",
      "Epoch 15/20 - Loss: 0.12329960986971855, Accuracy: 0.96875, Val Loss: 0.17727567106485367, Val Accuracy: 0.95\n",
      "Epoch 16/20 - Loss: 0.114941181614995, Accuracy: 0.96875, Val Loss: 0.16006697341799736, Val Accuracy: 0.95\n",
      "New best model!\n",
      "Epoch 17/20 - Loss: 0.11269983742386103, Accuracy: 0.9765625, Val Loss: 0.17527601420879363, Val Accuracy: 0.95\n",
      "Epoch 18/20 - Loss: 0.13419652683660388, Accuracy: 0.9437500014901161, Val Loss: 0.15851526707410812, Val Accuracy: 0.95\n",
      "New best model!\n",
      "Epoch 19/20 - Loss: 0.14052646700292826, Accuracy: 0.9343750029802322, Val Loss: 0.1827392429113388, Val Accuracy: 0.95\n",
      "Epoch 20/20 - Loss: 0.08179577067494392, Accuracy: 0.9921875, Val Loss: 0.16283492892980575, Val Accuracy: 0.95\n"
     ]
    },
    {
     "data": {
      "text/plain": [
       "<matplotlib.legend.Legend at 0x1aa6b7b3690>"
      ]
     },
     "execution_count": 217,
     "metadata": {},
     "output_type": "execute_result"
    },
    {
     "data": {
      "image/png": "[encoded data removed]",
      "text/plain": [
       "<Figure size 640x480 with 1 Axes>"
      ]
     },
     "metadata": {},
     "output_type": "display_data"
    }
   ],
   "source": [
    "device = \"cuda\" if torch.cuda.is_available() else \"cpu\"\n",
    "\n",
    "# Initialise the model and send it to the training device\n",
    "model = StopRecogniserNet()\n",
    "model = model.to(device)\n",
    "loss_function = torch.nn.BCELoss()\n",
    "optimiser = torch.optim.Adam(model.parameters(), lr = 1e-4)\n",
    "EPOCHS = 20\n",
    "\n",
    "# Optimise the weights and get the best model considering the validation set\n",
    "model, training_metrics = train_model(model, train_dl, val_dl, loss_function, optimiser, EPOCHS, device)\n",
    "\n",
    "plt.figure()\n",
    "plt.plot(np.arange(1,EPOCHS + 1), training_metrics[\"train_loss\"])\n",
    "plt.plot(np.arange(1,EPOCHS + 1), training_metrics[\"val_loss\"])\n",
    "plt.xlabel(\"Epochs\")\n",
    "plt.ylabel(\"Loss\")\n",
    "plt.legend([\"Train\", \"Validation\"])"
   ]
  },
  {
   "cell_type": "markdown",
   "metadata": {},
   "source": [
    "## Test model"
   ]
  },
  {
   "cell_type": "code",
   "execution_count": 226,
   "metadata": {},
   "outputs": [
    {
     "name": "stdout",
     "output_type": "stream",
     "text": [
      "Test accuracy: 0.95\n"
     ]
    }
   ],
   "source": [
    "true_predictions = 0\n",
    "num_samples = 0\n",
    "for idx, batch in enumerate(test_dl):\n",
    "    images, labels = batch\n",
    "    images, labels = images.to(device), labels.to(device)\n",
    "\n",
    "    test_predictions = model(images)\n",
    "\n",
    "    true_predictions += (test_predictions.T.round() == labels).float()[0].sum().item()\n",
    "    num_samples += len(labels)\n",
    "\n",
    "print(f\"Test accuracy: {true_predictions/num_samples}\")"
   ]
  }
 ],
 "metadata": {
  "kernelspec": {
   "display_name": "computervisionenv",
   "language": "python",
   "name": "python3"
  },
  "language_info": {
   "codemirror_mode": {
    "name": "ipython",
    "version": 3
   },
   "file_extension": ".py",
   "mimetype": "text/x-python",
   "name": "python",
   "nbconvert_exporter": "python",
   "pygments_lexer": "ipython3",
   "version": "3.11.8"
  }
 },
 "nbformat": 4,
 "nbformat_minor": 2
}
